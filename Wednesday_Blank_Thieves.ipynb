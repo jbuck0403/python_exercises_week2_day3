{
 "cells": [
  {
   "cell_type": "markdown",
   "metadata": {},
   "source": [
    "# Data Collections 2 (Dictionaries, Sets) and Importing Modules"
   ]
  },
  {
   "cell_type": "markdown",
   "metadata": {},
   "source": [
    "## Tasks Today:\n",
    "\n",
    "1) Dictionary <br>\n",
    " &nbsp;&nbsp;&nbsp;&nbsp; a) Declaring (key, value) <br>\n",
    " &nbsp;&nbsp;&nbsp;&nbsp; b) Accessing Values <br>\n",
    " &nbsp;&nbsp;&nbsp;&nbsp; ------ Exercise #1 - Print the eye color of each person in a double nested dict <br>\n",
    " &nbsp;&nbsp;&nbsp;&nbsp; c) Adding New Pairs <br>\n",
    " &nbsp;&nbsp;&nbsp;&nbsp; d) Modifying Values <br>\n",
    " &nbsp;&nbsp;&nbsp;&nbsp; e) Removing Key, Value Pairs <br>\n",
    " &nbsp;&nbsp;&nbsp;&nbsp; f) Looping a Dictionary <br>\n",
    " &nbsp;&nbsp;&nbsp;&nbsp; g) Looping Only Keys <br>\n",
    " &nbsp;&nbsp;&nbsp;&nbsp; h) Looping Only Values <br>\n",
    " &nbsp;&nbsp;&nbsp;&nbsp; ------ Exercise #2 - Create a Function that Prints All Key Value Pairs within a print .format()  <br>\n",
    " &nbsp;&nbsp;&nbsp;&nbsp; i) sorted() <br>\n",
    " &nbsp;&nbsp;&nbsp;&nbsp; j) Lists with Dictionaries <br>\n",
    " &nbsp;&nbsp;&nbsp;&nbsp; k) Dictionaries with Lists <br>\n",
    " &nbsp;&nbsp;&nbsp;&nbsp; l) Dictionaries with Dictionaries <br>\n",
    " &nbsp;&nbsp;&nbsp;&nbsp; ------ Exercise #3 - Write a Function that asks someone's name and address, and then stores that into a dictionary, which prints all names and addresses after they're done putting information in...  <br>\n",
    "2) Dictionaries vs. Lists (over time)<br>\n",
    "3) Set <br>\n",
    " &nbsp;&nbsp;&nbsp;&nbsp; a) Declaring <br>\n",
    " &nbsp;&nbsp;&nbsp;&nbsp; b) .add() <br>\n",
    " &nbsp;&nbsp;&nbsp;&nbsp; c) .remove() <br>\n",
    " &nbsp;&nbsp;&nbsp;&nbsp; d) .union() <br>\n",
    " &nbsp;&nbsp;&nbsp;&nbsp; e) .intersection() <br>\n",
    " &nbsp;&nbsp;&nbsp;&nbsp; f) .difference() <br>\n",
    " &nbsp;&nbsp;&nbsp;&nbsp; g) Frozen Set <br>\n",
    "4) Modules <br>\n",
    " &nbsp;&nbsp;&nbsp;&nbsp; a) Importing Entire Modules <br>\n",
    " &nbsp;&nbsp;&nbsp;&nbsp; b) Importing Methods Only <br>\n",
    " &nbsp;&nbsp;&nbsp;&nbsp; c) Using the 'as' Keyword <br>\n",
    " &nbsp;&nbsp;&nbsp;&nbsp; d) Creating a Module <br>\n",
    "5) Exercises <br>\n",
    " &nbsp;&nbsp;&nbsp;&nbsp; a) Build a Shopping Cart <br>\n",
    " &nbsp;&nbsp;&nbsp;&nbsp; b) Create Your Own Module <br>"
   ]
  },
  {
   "cell_type": "markdown",
   "metadata": {},
   "source": [
    "## Dictionary <br>\n",
    "<p>A collection of data with 'key:value' pairs. Dictionaries are ordered as of Python 3.6</p>"
   ]
  },
  {
   "cell_type": "markdown",
   "metadata": {},
   "source": [
    "##### Declaring (key, value)"
   ]
  },
  {
   "cell_type": "code",
   "execution_count": null,
   "metadata": {},
   "outputs": [],
   "source": [
    "myDict1 = dict()\n",
    "myDict2 = [('a', 1), ('b', 2)]\n",
    "myDict3 = [['a', 1], ['b',2]]\n",
    "myDict4 = {'a': 1, 'b': 2}\n",
    "myDict5 = dict(a=1, b=2)\n",
    "\n",
    "myKeys = ['a','b']\n",
    "myValues = [1,2]\n",
    "myDict6 = {key: value for key, value in zip(myKeys, myValues)}"
   ]
  },
  {
   "cell_type": "markdown",
   "metadata": {},
   "source": [
    "##### Accessing Values"
   ]
  },
  {
   "cell_type": "code",
   "execution_count": 5,
   "metadata": {},
   "outputs": [
    {
     "name": "stdout",
     "output_type": "stream",
     "text": [
      "1\n",
      "dict_keys(['a', 'b'])\n",
      "dict_values([1, 2])\n",
      "0\n"
     ]
    }
   ],
   "source": [
    "myDict = {'a': 1, 'b': 2}\n",
    "\n",
    "print(myDict['a']) #access a value from a key\n",
    "print(myDict.keys()) #access all keys\n",
    "print(myDict.values()) #access all values\n",
    "print(myDict.get('c', 0)) #in case you aren't certain a key is in a dict, returns second argument if key not found\n"
   ]
  },
  {
   "cell_type": "markdown",
   "metadata": {},
   "source": [
    "## In-Class Exercise #1 - Print a formatted statement from the dictionary below <br>\n",
    "<p>The output should be '2018 Chevrolet Silverado'</p>"
   ]
  },
  {
   "cell_type": "code",
   "execution_count": 7,
   "metadata": {},
   "outputs": [
    {
     "name": "stdout",
     "output_type": "stream",
     "text": [
      "2018 Chevrolet Silverado\n"
     ]
    }
   ],
   "source": [
    "# use the dict below\n",
    "truck = {\n",
    "    'year': 2018,\n",
    "    'make': 'Chevrolet',\n",
    "    'model': 'Silverado'\n",
    "}\n",
    "\n",
    "year, make, model = truck.values()\n",
    "print(f\"{year} {make} {model}\")\n",
    "\n"
   ]
  },
  {
   "cell_type": "markdown",
   "metadata": {},
   "source": [
    "##### Adding New Pairs"
   ]
  },
  {
   "cell_type": "code",
   "execution_count": 15,
   "metadata": {},
   "outputs": [
    {
     "name": "stdout",
     "output_type": "stream",
     "text": [
      "{'a': 1, 'b': 2}\n",
      "{'a': 1, 'b': 2, 'c': 3}\n",
      "{'a': 1, 'b': 2, 'c': 3}\n",
      "{'a': 1, 'b': 2, 'c': 3, 'd': 4, 'e': 5}\n",
      "{'a': 1, 'b': 2, 'c': 3, 'd': 4, 'e': 5, 'f': 6, 'g': 7}\n"
     ]
    }
   ],
   "source": [
    "myDict = {'a': 1, 'b': 2}\n",
    "print(myDict)\n",
    "\n",
    "myDict['c'] = 3\n",
    "print(myDict)\n",
    "\n",
    "myDict.setdefault('c', 4) #only update if the key isn't currently in the array\n",
    "print(myDict)\n",
    "\n",
    "myDict.update({'d': 4, 'e': 5})\n",
    "print(myDict)\n",
    "\n",
    "newPairs = {'f': 6, 'g': 7}\n",
    "myDict = {**myDict, **newPairs}\n",
    "print(myDict)\n"
   ]
  },
  {
   "cell_type": "markdown",
   "metadata": {},
   "source": [
    "##### Modifying Values"
   ]
  },
  {
   "cell_type": "code",
   "execution_count": 22,
   "metadata": {},
   "outputs": [
    {
     "name": "stdout",
     "output_type": "stream",
     "text": [
      "{'a': 1, 'b': 2}\n",
      "{'a': 2, 'b': 2}\n",
      "{'a': 3, 'b': 4}\n",
      "{'a': 3, 'b': 4}\n",
      "{'a': 1, 'b': 4}\n"
     ]
    }
   ],
   "source": [
    "myDict = {'a': 1, 'b': 2}\n",
    "print(myDict)\n",
    "\n",
    "myDict['a'] = 2\n",
    "print(myDict)\n",
    "\n",
    "myDict.update({'a': 3, 'b': 4})\n",
    "print(myDict)\n",
    "\n",
    "myDict = {key: 1 if key == 'a' else value for key, value in myDict.items()} #using list comprehension\n",
    "print(myDict)"
   ]
  },
  {
   "cell_type": "markdown",
   "metadata": {},
   "source": [
    "##### Removing Key, Value Pairs"
   ]
  },
  {
   "cell_type": "code",
   "execution_count": 43,
   "metadata": {},
   "outputs": [
    {
     "name": "stdout",
     "output_type": "stream",
     "text": [
      "{'a': 1, 'b': 2}\n",
      "{'b': 2}\n",
      "{}\n",
      "('b', 2) {'a': 1}\n",
      "before {'a': 1, 'b': 2}\n",
      "after {'b': 2}\n",
      "before clear {'a': 1, 'b': 2}\n",
      "after clear {}\n"
     ]
    }
   ],
   "source": [
    "myDict = {'a': 1, 'b': 2}\n",
    "print(myDict)\n",
    "\n",
    "poppedValue = myDict.pop('a')\n",
    "print(myDict)\n",
    "\n",
    "del myDict['b']\n",
    "print(myDict)\n",
    "\n",
    "myDict = {'a': 1, 'b': 2}\n",
    "poppedItem = myDict.popitem() #pops the last kvp as a tuple\n",
    "print(poppedItem, myDict)\n",
    "\n",
    "myDict = {'a': 1, 'b': 2}\n",
    "print(\"before\", myDict)\n",
    "\n",
    "myDict = {key: value for key, value in myDict.items() if key != 'a'}\n",
    "print(\"after\", myDict)\n",
    "\n",
    "myDict = {'a': 1, 'b': 2}\n",
    "print(\"before clear\", myDict)\n",
    "myDict.clear()\n",
    "print(\"after clear\",myDict)"
   ]
  },
  {
   "cell_type": "markdown",
   "metadata": {},
   "source": [
    "##### Looping a Dictionary"
   ]
  },
  {
   "cell_type": "code",
   "execution_count": 59,
   "metadata": {},
   "outputs": [
    {
     "name": "stdout",
     "output_type": "stream",
     "text": [
      "a 1\n",
      "b 2\n",
      "{'b 2', 'a 1'}\n"
     ]
    }
   ],
   "source": [
    "# .items()\n",
    "myDict = {'a': 1, 'b': 2}\n",
    "\n",
    "for key, value in myDict.items():\n",
    "    print(key, value)\n",
    "\n",
    "print({f\"{key} {value}\" for key, value in myDict.items()})\n"
   ]
  },
  {
   "cell_type": "markdown",
   "metadata": {},
   "source": [
    "##### Looping Only Keys"
   ]
  },
  {
   "cell_type": "code",
   "execution_count": 61,
   "metadata": {},
   "outputs": [
    {
     "name": "stdout",
     "output_type": "stream",
     "text": [
      "a\n",
      "b\n",
      "{'a', 'b'}\n"
     ]
    }
   ],
   "source": [
    "# .keys()\n",
    "myDict = {'a': 1, 'b': 2}\n",
    "\n",
    "for key in myDict.keys():\n",
    "    print(key)\n",
    "\n",
    "print({key for key in myDict.keys()})\n"
   ]
  },
  {
   "cell_type": "markdown",
   "metadata": {},
   "source": [
    "##### Looping Only Values"
   ]
  },
  {
   "cell_type": "code",
   "execution_count": 62,
   "metadata": {},
   "outputs": [
    {
     "name": "stdout",
     "output_type": "stream",
     "text": [
      "1\n",
      "2\n",
      "{1, 2}\n"
     ]
    }
   ],
   "source": [
    "# .values()\n",
    "myDict = {'a': 1, 'b': 2}\n",
    "\n",
    "for value in myDict.values():\n",
    "    print(value)\n",
    "\n",
    "print({value for value in myDict.values()})\n",
    "\n"
   ]
  },
  {
   "cell_type": "markdown",
   "metadata": {},
   "source": [
    "## In-Class Exercise #2 - Create a Function that Prints All Key Value Pairs within a print .format() <br>\n",
    "<p><b>Output should be:</b><br>\n",
    "Max has blue eyes<br>\n",
    "Lilly has brown eyes<br>\n",
    "Barney has blue eyes<br>\n",
    "etc.\n",
    "</p>"
   ]
  },
  {
   "cell_type": "code",
   "execution_count": 64,
   "metadata": {},
   "outputs": [
    {
     "name": "stdout",
     "output_type": "stream",
     "text": [
      "Max has blue eyes\n",
      "Lilly has brown eyes\n",
      "Barney has blue eyes\n",
      "Larney has brown eyes\n",
      "Ted has purple eyes\n"
     ]
    }
   ],
   "source": [
    "# use the dict below\n",
    "\n",
    "people = {\n",
    "    'Max': 'blue',\n",
    "    'Lilly': 'brown',\n",
    "    'Barney': 'blue',\n",
    "    'Larney': 'brown',\n",
    "    'Ted': 'purple'\n",
    "}\n",
    "\n",
    "for key,value in people.items():\n",
    "    print(f\"{key} has {value} eyes\")\n"
   ]
  },
  {
   "cell_type": "markdown",
   "metadata": {},
   "source": [
    "##### sorted()"
   ]
  },
  {
   "cell_type": "code",
   "execution_count": 68,
   "metadata": {},
   "outputs": [
    {
     "name": "stdout",
     "output_type": "stream",
     "text": [
      "a 1\n",
      "b 2\n",
      "c 3\n"
     ]
    }
   ],
   "source": [
    "# sorts variables in order\n",
    "# sorted(dict.values()) or dict.keys() or dict.items()\n",
    "myDict = {'c': 3, 'a': 1, 'b': 2}\n",
    "\n",
    "for key, value in sorted(myDict.items()):\n",
    "    print(key, value)\n"
   ]
  },
  {
   "cell_type": "markdown",
   "metadata": {},
   "source": [
    "##### List with Dictionaries"
   ]
  },
  {
   "cell_type": "code",
   "execution_count": 18,
   "metadata": {},
   "outputs": [
    {
     "name": "stdout",
     "output_type": "stream",
     "text": [
      "LLoyd\n",
      "Darius\n"
     ]
    }
   ],
   "source": [
    "students = ['Daniel','LLoyd','Eddie',{'random guy': 'Darius','random girl': 'Sarah'}]\n",
    "\n",
    "print(students[1])\n",
    "print(students[3]['random guy'])"
   ]
  },
  {
   "cell_type": "markdown",
   "metadata": {},
   "source": [
    "##### Dictionaries with Lists"
   ]
  },
  {
   "cell_type": "code",
   "execution_count": 21,
   "metadata": {},
   "outputs": [
    {
     "name": "stdout",
     "output_type": "stream",
     "text": [
      "LeBron James\n"
     ]
    }
   ],
   "source": [
    "# be careful when using numbers as keys in dictionaries, don't confuse them with indexes\n",
    "nbaTeams = {\n",
    "    'Los Angeles': ['LeBron James','Kobe Bryant'],\n",
    "    'Phoenix': ['Kevin Durant', 'Devin Booker']\n",
    "}\n",
    "\n",
    "print(nbaTeams['Los Angeles'][0])"
   ]
  },
  {
   "cell_type": "markdown",
   "metadata": {},
   "source": [
    "##### Dictionaries with Dictionaries"
   ]
  },
  {
   "cell_type": "code",
   "execution_count": 6,
   "metadata": {},
   "outputs": [
    {
     "name": "stdout",
     "output_type": "stream",
     "text": [
      "{'name': 'Alice', 'age': 20, 'grade': 'A'}\n",
      "Alice\n",
      "A\n"
     ]
    }
   ],
   "source": [
    "# to get values, must traverse through keys\n",
    "myDictDict = {\n",
    "    \"student1\": {\"name\": \"Alice\", \"age\": 20, \"grade\": \"A\"},\n",
    "    \"student2\": {\"name\": \"Bob\", \"age\": 22, \"grade\": \"B\"},\n",
    "    \"student3\": {\"name\": \"Charlie\", \"age\": 21, \"grade\": \"C\"}\n",
    "}\n",
    "\n",
    "print(myDictDict['student1'])\n",
    "print(myDictDict['student1']['name'])\n",
    "print(myDictDict['student1']['grade'])\n"
   ]
  },
  {
   "cell_type": "markdown",
   "metadata": {},
   "source": [
    "## Dictionaries vs. Lists (over time) Example of RUNTIME\n",
    "### When inputting values in a Dictionary vs List"
   ]
  },
  {
   "cell_type": "code",
   "execution_count": 34,
   "metadata": {},
   "outputs": [],
   "source": [
    "import time\n",
    "\n",
    "\n",
    "# generate fake dictionary\n",
    "d = {}\n",
    "\n",
    "for i in range(50000000):\n",
    "    d[i] = 'value'\n",
    "    \n",
    "\n",
    "# generate fake list\n",
    "big_list = [x for x in range(50000000)]"
   ]
  },
  {
   "cell_type": "code",
   "execution_count": 35,
   "metadata": {},
   "outputs": [
    {
     "name": "stdout",
     "output_type": "stream",
     "text": [
      "Elapsed time for dictionary: 0.2889363765716553\n",
      "Elapsed time for dictionary: 0.0\n"
     ]
    }
   ],
   "source": [
    "# tracking time for list\n",
    "start_time = time.time()\n",
    "\n",
    "if 49999999 in big_list:\n",
    "    pass\n",
    "end_time = time.time() - start_time\n",
    "\n",
    "print('Elapsed time for dictionary: {}'.format(end_time))\n",
    "\n",
    "\n",
    "# tracking time for dictionary\n",
    "start_time = time.time()\n",
    "\n",
    "if 49999999 in d:\n",
    "    pass\n",
    "\n",
    "end_time = time.time() - start_time\n",
    "\n",
    "print('Elapsed time for dictionary: {}'.format(end_time))"
   ]
  },
  {
   "cell_type": "markdown",
   "metadata": {},
   "source": [
    "## Exercise #3 - Write a Function that asks someone's name and address, and then stores that into a dictionary, and continues to do so until they choose to 'quit'. Once they quit, the program should print all names and addresses. <br>\n",
    "<p>\n",
    "<b>Proper steps:</b><br>\n",
    "step 1: write a function that takes in information and stores it in a dictionary<br>\n",
    "step 2: define an empty dictionary to work with<br>\n",
    "step 3: create our loop, which asks the user for information until they quit<br>\n",
    "step 4: ask for the information, and store it into variables<br>\n",
    "step 5: check if the user types quit<br>\n",
    "step 5a: print out all information<br>\n",
    "step 5b: break out of the loop<br>\n",
    "step 6: if they didn't quit, add the information to the dictionary<br>\n",
    "step 7: invoke the function by calling it\n",
    "</p>"
   ]
  },
  {
   "cell_type": "code",
   "execution_count": 17,
   "metadata": {},
   "outputs": [
    {
     "name": "stdout",
     "output_type": "stream",
     "text": [
      "{'Jack': '123 Fortworth Drive', 'Tony': '5475 Stork Drive'}\n"
     ]
    }
   ],
   "source": [
    "def generateContacts():\n",
    "    def getInput():\n",
    "        def checkQuit(str):\n",
    "            return str.lower().strip() == 'quit'\n",
    "        \n",
    "        def makeTrueTitle(str):\n",
    "            return ' '.join([word.title() for word in str.split(' ')])\n",
    "        \n",
    "        name = input(\"Name: \")\n",
    "        if checkQuit(name):\n",
    "            return False\n",
    "        address = input(\"Address: \")\n",
    "        if checkQuit(address):\n",
    "            return False\n",
    "\n",
    "        return {makeTrueTitle(name): makeTrueTitle(address)}\n",
    "    \n",
    "    myDict = {}\n",
    "    while True:\n",
    "        userInput = getInput()\n",
    "        if userInput == False:\n",
    "            return myDict\n",
    "        else:\n",
    "            myDict.update(userInput)\n",
    "\n",
    "print(generateContacts())"
   ]
  },
  {
   "cell_type": "markdown",
   "metadata": {},
   "source": [
    "## Set <br>\n",
    "<p>A Set is an unordered collection data type that is iterable (loop), mutable, and has no duplicate elements.<br>Major advantage is that it is highly optimized in checking if something is in the set, as opposed to checking if something is in a list.</p>"
   ]
  },
  {
   "cell_type": "markdown",
   "metadata": {},
   "source": [
    "##### Declaring"
   ]
  },
  {
   "cell_type": "code",
   "execution_count": 63,
   "metadata": {},
   "outputs": [
    {
     "name": "stdout",
     "output_type": "stream",
     "text": [
      "<class 'set'>\n"
     ]
    }
   ],
   "source": [
    "# set() or {}\n",
    "mySet = {1,2,3,4,5}\n",
    "print(type(mySet))"
   ]
  },
  {
   "cell_type": "markdown",
   "metadata": {},
   "source": [
    "##### .add()"
   ]
  },
  {
   "cell_type": "code",
   "execution_count": 64,
   "metadata": {},
   "outputs": [
    {
     "name": "stdout",
     "output_type": "stream",
     "text": [
      "{1, 2, 3, 4, 5}\n",
      "{1, 2, 3, 4, 5, 6}\n"
     ]
    }
   ],
   "source": [
    "# set.add()\n",
    "print(mySet)\n",
    "mySet.add(6)\n",
    "print(mySet)"
   ]
  },
  {
   "cell_type": "markdown",
   "metadata": {},
   "source": [
    "##### .remove()"
   ]
  },
  {
   "cell_type": "code",
   "execution_count": 2,
   "metadata": {},
   "outputs": [
    {
     "name": "stdout",
     "output_type": "stream",
     "text": [
      "{1, 2, 3, 4, 5}\n",
      "{1, 3, 4, 5}\n"
     ]
    }
   ],
   "source": [
    "# removes by value\n",
    "# set.remove()\n",
    "# nums.remove(56)\n",
    "\n",
    "mySet = {1,2,3,4,5}\n",
    "print(mySet)\n",
    "\n",
    "mySet.remove(2)\n",
    "print(mySet)\n",
    "\n"
   ]
  },
  {
   "cell_type": "markdown",
   "metadata": {},
   "source": [
    "##### .union() "
   ]
  },
  {
   "cell_type": "code",
   "execution_count": 68,
   "metadata": {},
   "outputs": [
    {
     "name": "stdout",
     "output_type": "stream",
     "text": [
      "{1, 2, 3, 4} {3, 4, 5, 6}\n",
      "{1, 2, 3, 4, 5, 6}\n",
      "set()\n",
      "{1, 2, 3, 4, 5, 6}\n"
     ]
    }
   ],
   "source": [
    "# Returns a union of two sets, can also use '|' or set.union(set)\n",
    "# joins all numbers, gets rid of duplicates\n",
    "mySet = {1,2,3,4}\n",
    "myOtherSet = {3,4,5,6}\n",
    "print(mySet, myOtherSet)\n",
    "\n",
    "unifiedSet = mySet.union(myOtherSet)\n",
    "print(unifiedSet)\n",
    "\n",
    "#OR\n",
    "newUnifiedSet = set()\n",
    "print(newUnifiedSet)\n",
    "newUnifiedSet = mySet | myOtherSet\n",
    "print(newUnifiedSet)\n"
   ]
  },
  {
   "cell_type": "markdown",
   "metadata": {},
   "source": [
    "##### .intersection()"
   ]
  },
  {
   "cell_type": "code",
   "execution_count": 69,
   "metadata": {},
   "outputs": [
    {
     "name": "stdout",
     "output_type": "stream",
     "text": [
      "{1, 2, 3, 4} {3, 4, 5, 6}\n",
      "{3, 4}\n"
     ]
    }
   ],
   "source": [
    "# Returns an intersection of two sets, can also use '&'\n",
    "# only takes similar elements from both sets\n",
    "mySet = {1,2,3,4}\n",
    "myOtherSet = {3,4,5,6}\n",
    "print(mySet, myOtherSet)\n",
    "\n",
    "setIntersection = mySet & myOtherSet\n",
    "print(setIntersection)\n",
    "\n"
   ]
  },
  {
   "cell_type": "markdown",
   "metadata": {},
   "source": [
    "##### .difference()"
   ]
  },
  {
   "cell_type": "code",
   "execution_count": 71,
   "metadata": {},
   "outputs": [
    {
     "name": "stdout",
     "output_type": "stream",
     "text": [
      "{1, 2, 3, 4} {3, 4, 5, 6}\n",
      "{1, 2}\n",
      "{5, 6}\n"
     ]
    }
   ],
   "source": [
    "# Returns a set containing all the elements of invoking set that are not in the second set, can also use '-'\n",
    "# only takes values from the first set that are not in the second set\n",
    "# order matters\n",
    "mySet = {1,2,3,4}\n",
    "myOtherSet = {3,4,5,6}\n",
    "print(mySet, myOtherSet)\n",
    "\n",
    "differenceSet = mySet - myOtherSet\n",
    "print(differenceSet)\n",
    "differenceSet = myOtherSet - mySet\n",
    "print(differenceSet)\n",
    "\n",
    "\n"
   ]
  },
  {
   "cell_type": "markdown",
   "metadata": {},
   "source": [
    "##### .clear()"
   ]
  },
  {
   "cell_type": "code",
   "execution_count": 72,
   "metadata": {},
   "outputs": [
    {
     "name": "stdout",
     "output_type": "stream",
     "text": [
      "{1, 2, 3, 4}\n",
      "set()\n"
     ]
    }
   ],
   "source": [
    "# Empties the whole set\n",
    "# set.clear()\n",
    "\n",
    "mySet = {1,2,3,4}\n",
    "print(mySet)\n",
    "\n",
    "mySet.clear()\n",
    "print(mySet)\n"
   ]
  },
  {
   "cell_type": "markdown",
   "metadata": {},
   "source": [
    "## Modules"
   ]
  },
  {
   "cell_type": "markdown",
   "metadata": {},
   "source": [
    "##### Importing Entire Modules"
   ]
  },
  {
   "cell_type": "code",
   "execution_count": 81,
   "metadata": {},
   "outputs": [
    {
     "name": "stdout",
     "output_type": "stream",
     "text": [
      "10.0\n"
     ]
    }
   ],
   "source": [
    "# import math\n",
    "import math\n",
    "\n",
    "print(math.sqrt(100))"
   ]
  },
  {
   "cell_type": "markdown",
   "metadata": {},
   "source": [
    "##### Importing Methods Only"
   ]
  },
  {
   "cell_type": "code",
   "execution_count": 84,
   "metadata": {},
   "outputs": [
    {
     "name": "stdout",
     "output_type": "stream",
     "text": [
      "3.141592653589793\n",
      "3.0\n"
     ]
    }
   ],
   "source": [
    "# from 'xxx' import 'xxx'\n",
    "# from math import floor\n",
    "from math import pi, sqrt\n",
    "\n",
    "print(pi)\n",
    "print(sqrt(9))\n"
   ]
  },
  {
   "cell_type": "markdown",
   "metadata": {},
   "source": [
    "##### Using the 'as' Keyword"
   ]
  },
  {
   "cell_type": "code",
   "execution_count": 85,
   "metadata": {},
   "outputs": [
    {
     "name": "stdout",
     "output_type": "stream",
     "text": [
      "3.141592653589793\n",
      "3.0\n"
     ]
    }
   ],
   "source": [
    "# from 'xxx' import 'xxx' as 'xxx' or import 'xxx' as 'xxx'\n",
    "# from math import floor as f\n",
    "from math import pi as p, sqrt as s\n",
    "print(p)\n",
    "print(s(9))\n"
   ]
  },
  {
   "cell_type": "markdown",
   "metadata": {},
   "source": [
    "##### Creating a Module"
   ]
  },
  {
   "cell_type": "code",
   "execution_count": 87,
   "metadata": {},
   "outputs": [
    {
     "name": "stdout",
     "output_type": "stream",
     "text": [
      "3\n"
     ]
    }
   ],
   "source": [
    "from modules.myModules import add\n",
    "\n",
    "print(add(1, 2))"
   ]
  },
  {
   "cell_type": "markdown",
   "metadata": {},
   "source": [
    "# Exercises"
   ]
  },
  {
   "cell_type": "markdown",
   "metadata": {},
   "source": [
    "### 1) Build a Shopping Cart <br>\n",
    "<p><b>You can use either lists or dictionaries. The program should have the following capabilities:</b><br><br>\n",
    "1) Takes in input <br>\n",
    "2) Stores user input into a dictionary or list <br>\n",
    "3) The User can add or delete items <br>\n",
    "4) The User can see current shopping list <br>\n",
    "5) The program Loops until user 'quits' <br>\n",
    "6) Upon quiting the program, print out all items in the user's list <br>\n",
    "</p>"
   ]
  },
  {
   "cell_type": "code",
   "execution_count": 8,
   "metadata": {},
   "outputs": [
    {
     "name": "stdout",
     "output_type": "stream",
     "text": [
      "<class 'list'>\n",
      "Cheese\n",
      "Chicken\n",
      "Eggs\n"
     ]
    }
   ],
   "source": [
    "from IPython.display import clear_output\n",
    "\n",
    "def generateGroceryList(groceries = set()):\n",
    "    def getInput():\n",
    "        def addGroceryItem():\n",
    "            # format and add all items from input, separated by commas\n",
    "            [groceries.add(item.strip()) for item in makeTrueTitle(input(\"Item to add (separate multiple items with ,): \")).split(',')]\n",
    "    \n",
    "        def deleteGroceryItem():\n",
    "            # deletes inputs not in the list\n",
    "            itemsToDelete = input(\"Which items do you want to delete? (separate multiple items with ,): \").split(',') # accept input, items separated by commas\n",
    "            itemsToDelete = [cleanItem for item in itemsToDelete if (cleanItem := makeTrueTitle(item.strip())) in groceries] # filter out inputs not currently in groceries\n",
    "            \n",
    "            if len(itemsToDelete) == 0: return # if the list of items to delete is empty (user didn't enter any/any valid items), return \n",
    "\n",
    "            [groceries.remove(item) for item in itemsToDelete] # remove all items in itemsToDelete from groceries\n",
    "            \n",
    "        def showGroceries():\n",
    "            # print all items in the sorted groceries list\n",
    "            [print(item) for item in sorted(groceries)]\n",
    "\n",
    "        def checkOption(userInput):\n",
    "            options = {\n",
    "                's': showGroceries,\n",
    "                'a': addGroceryItem,\n",
    "                'd': deleteGroceryItem,\n",
    "                'q': ['q', showGroceries]\n",
    "            }\n",
    "            \n",
    "            cleanInput = userInput.lower().strip()[0]\n",
    "            \n",
    "            return options.get(cleanInput, False) # returns user choice based on input, if input doesn't reflect a choice returns false to loop again\n",
    "        \n",
    "        # Ask the user four bits of input: Do you want to : Show/Add/Delete or Quit?\n",
    "        return checkOption(input(\"Show/Add/Delete or Quit: \"))\n",
    "            \n",
    "    def makeTrueTitle(str):\n",
    "        \"\"\"capitalizes the first letter of each word in a string, separated by spaces\n",
    "        \n",
    "        returns a string\"\"\"\n",
    "        return ' '.join([word.title() for word in str.split(' ')])\n",
    "\n",
    "    while True:\n",
    "        try:\n",
    "            clear_output(wait=True) # clears output in ipython environments (jupyter notebook, etc.)\n",
    "        except:\n",
    "            pass\n",
    "\n",
    "        choice = getInput()\n",
    "\n",
    "        if not choice: # if no or no valid choice is made\n",
    "            continue\n",
    "        elif type(choice) == list: # if user chooses to quit\n",
    "            choice[1]() # display list before exiting loop\n",
    "            break\n",
    "        else:\n",
    "            choice() # runs chosen function (show/add/delete)\n",
    "\n",
    "generateGroceryList()"
   ]
  },
  {
   "cell_type": "markdown",
   "metadata": {},
   "source": [
    "### 2) Create a Module in VS Code and Import It into jupyter notebook <br>\n",
    "<p><b>Module should have the following capabilities:</b><br><br>\n",
    "1) Has a function to calculate the square footage of a house <br>\n",
    "    <b>Reminder of Formula: Length X Width == Area<br>\n",
    "        <hr>\n",
    "2) Has a function to calculate the circumference of a circle <br><br>\n",
    "<b>Program in Jupyter Notebook should take in user input and use imported functions to calculate a circle's circumference or a houses square footage</b>\n",
    "</p>"
   ]
  },
  {
   "cell_type": "code",
   "execution_count": 1,
   "metadata": {},
   "outputs": [
    {
     "name": "stdout",
     "output_type": "stream",
     "text": [
      "10 20 200\n",
      "5.0 31.41592653589793\n"
     ]
    }
   ],
   "source": [
    "from modules.myModules import calcSqft, calcCircumference\n",
    "\n",
    "length = int(input(\"Enter length of house: \"))\n",
    "width = int(input(\"Enter width of house: \"))\n",
    "\n",
    "houseArea = calcSqft(length, width)\n",
    "print(length, width, houseArea)\n",
    "\n",
    "radius = float(input(\"Enter radius\"))\n",
    "\n",
    "circumference = calcCircumference(radius)\n",
    "print(radius, circumference)\n"
   ]
  }
 ],
 "metadata": {
  "kernelspec": {
   "display_name": "Python 3",
   "language": "python",
   "name": "python3"
  },
  "language_info": {
   "codemirror_mode": {
    "name": "ipython",
    "version": 3
   },
   "file_extension": ".py",
   "mimetype": "text/x-python",
   "name": "python",
   "nbconvert_exporter": "python",
   "pygments_lexer": "ipython3",
   "version": "3.10.7"
  },
  "vscode": {
   "interpreter": {
    "hash": "aa82987a71ca0339a52998cd22613b0c002bda8349fa32a0cb67ceec3936a2bf"
   }
  }
 },
 "nbformat": 4,
 "nbformat_minor": 2
}
